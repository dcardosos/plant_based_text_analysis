{
  "cells": [
    {
      "cell_type": "code",
      "source": [
        "import pandas as pd\n",
        "import json\n",
        "import re"
      ],
      "outputs": [],
      "execution_count": 35,
      "metadata": {
        "jupyter": {
          "source_hidden": false,
          "outputs_hidden": false
        },
        "nteract": {
          "transient": {
            "deleting": false
          }
        },
        "gather": {
          "logged": 1637731122040
        }
      }
    },
    {
      "cell_type": "code",
      "source": [
        "def txt_to_df(txt_path):\n",
        "    \"\"\"\n",
        "    Powerhouse function to take raw scraped twitter data\n",
        "    into a DataFrame of just the tweet texts and years\n",
        "    Args:\n",
        "        txt_path: The path for the saved file containing\n",
        "            the tweet data in json format\n",
        "    Returns:\n",
        "        A DataFrame containing just the raw tweet texts and years tweeted\n",
        "    \"\"\"\n",
        "    path = txt_path\n",
        "    tweets_file = open(path, \"r\")\n",
        "    tweets_data = []\n",
        "    for line in tweets_file:\n",
        "        try:\n",
        "            tweet = json.loads(line)\n",
        "            tweets_data.append(tweet)\n",
        "        except:\n",
        "            continue\n",
        "    tweet = pd.DataFrame(tweets_data)\n",
        "    tweet = tweet[tweet[\"lang\"] == \"pt\"]\n",
        "    try:\n",
        "        tweet = tweet[[\"full_text\", \"created_at\", \"retweeted_status\"]]\n",
        "        tweet[\"long_text\"] = tweet[\"full_text\"]\n",
        "        tweet[\"long_text\"] = tweet.apply(ext_rt, axis=1)\n",
        "        tweet[\"long_text\"] = tweet.apply(rm_links, axis=1)\n",
        "        tweet[\"year\"] = pd.to_datetime(tweet[\"created_at\"])\n",
        "        tweet[\"year\"] = tweet.apply(to_year, axis=1)\n",
        "        return tweet[[\"long_text\", \"year\"]]\n",
        "    except:\n",
        "        try:\n",
        "            tweet[\"long_text\"] = tweet[\"content\"]\n",
        "            tweet[\"long_text\"] = tweet.apply(rm_links, axis=1)\n",
        "            tweet[\"year\"] = pd.to_datetime(tweet[\"date\"])\n",
        "            tweet[\"year\"] = tweet.apply(to_year, axis=1)\n",
        "            return tweet[[\"long_text\", \"year\"]]\n",
        "        except:\n",
        "            return tweet[[\"long_text\", \"year\"]]\n",
        "\n",
        "\n",
        "def ext_rt(row):\n",
        "    \"\"\"\n",
        "    Function to extract full retweet text\n",
        "    For use in txt_to_df and .apply or .map functionality\n",
        "    Args:\n",
        "        row: row from dataframe\n",
        "    Returns:\n",
        "        Full text of a retweeted tweet\n",
        "    \"\"\"\n",
        "    try:\n",
        "        if type(row[\"retweeted_status\"]) == dict:\n",
        "            return row[\"retweeted_status\"][\"extended_tweet\"][\"full_text\"]\n",
        "        else:\n",
        "            return row[\"long_text\"]\n",
        "    except:\n",
        "        return row[\"long_text\"]\n",
        "\n",
        "\n",
        "def to_year(row):\n",
        "    \"\"\"\n",
        "    Function to extract year\n",
        "    For use in txt_to_df and .apply or .map functionality\n",
        "    Args:\n",
        "        row: row from dataframe\n",
        "    Returns:\n",
        "        Year a tweet was tweeted\n",
        "    \"\"\"\n",
        "    return row[\"year\"].year\n",
        "\n",
        "\n",
        "def rm_links(row):\n",
        "    \"\"\"\n",
        "    Function to remove links from tweets\n",
        "    For use in txt_to_df and .apply or .map functionality\n",
        "    Args:\n",
        "        row: row from dataframe\n",
        "    Returns:\n",
        "        Tweet without links\n",
        "    \"\"\"\n",
        "    text = row[\"long_text\"]\n",
        "    text = re.sub(r\"https:\\S*\", \"\", text)\n",
        "    row[\"long_text\"] = text\n",
        "    return row[\"long_text\"]\n"
      ],
      "outputs": [],
      "execution_count": 37,
      "metadata": {
        "jupyter": {
          "source_hidden": false,
          "outputs_hidden": false
        },
        "nteract": {
          "transient": {
            "deleting": false
          }
        },
        "gather": {
          "logged": 1637757714435
        }
      }
    },
    {
      "cell_type": "code",
      "source": [
        "path = \"sustentabilidade_15_21.txt\"\n",
        "\n",
        "txt_to_df(path).to_csv(\"sustentabilidade.csv\")"
      ],
      "outputs": [],
      "execution_count": 67,
      "metadata": {
        "jupyter": {
          "source_hidden": false,
          "outputs_hidden": false
        },
        "nteract": {
          "transient": {
            "deleting": false
          }
        },
        "gather": {
          "logged": 1637805246890
        }
      }
    },
    {
      "cell_type": "code",
      "source": [
        "\n",
        "txt_to_df(path)"
      ],
      "outputs": [
        {
          "output_type": "execute_result",
          "execution_count": 66,
          "data": {
            "text/plain": "                                               long_text  year\n0      Águas do Agro busca sustentabilidade do meio r...  2021\n1      Prazer d ter o novo livro d @soniafavaretto #v...  2021\n2      @senadorhumberto @mmc032 Perdi exatamente por ...  2021\n3      Vendo as fotos e vídeos da galera no show de o...  2021\n4      São Roque atualiza objetivos da cartilha de su...  2021\n...                                                  ...   ...\n49833  Do compromisso em emissão zero de carbono à en...  2021\n49834  Mas fora isso, jogão da porra, mano. Divertido...  2021\n49835  Hoje dia 22 de Abril é o Dia da Terra, um dia ...  2021\n49836  Queria poder descomplicar a vida desse jeito, ...  2021\n49837  @Roger_Oliveira7 @cirogomes @lhmandetta @Lucia...  2021\n\n[46709 rows x 2 columns]",
            "text/html": "<div>\n<style scoped>\n    .dataframe tbody tr th:only-of-type {\n        vertical-align: middle;\n    }\n\n    .dataframe tbody tr th {\n        vertical-align: top;\n    }\n\n    .dataframe thead th {\n        text-align: right;\n    }\n</style>\n<table border=\"1\" class=\"dataframe\">\n  <thead>\n    <tr style=\"text-align: right;\">\n      <th></th>\n      <th>long_text</th>\n      <th>year</th>\n    </tr>\n  </thead>\n  <tbody>\n    <tr>\n      <th>0</th>\n      <td>Águas do Agro busca sustentabilidade do meio r...</td>\n      <td>2021</td>\n    </tr>\n    <tr>\n      <th>1</th>\n      <td>Prazer d ter o novo livro d @soniafavaretto #v...</td>\n      <td>2021</td>\n    </tr>\n    <tr>\n      <th>2</th>\n      <td>@senadorhumberto @mmc032 Perdi exatamente por ...</td>\n      <td>2021</td>\n    </tr>\n    <tr>\n      <th>3</th>\n      <td>Vendo as fotos e vídeos da galera no show de o...</td>\n      <td>2021</td>\n    </tr>\n    <tr>\n      <th>4</th>\n      <td>São Roque atualiza objetivos da cartilha de su...</td>\n      <td>2021</td>\n    </tr>\n    <tr>\n      <th>...</th>\n      <td>...</td>\n      <td>...</td>\n    </tr>\n    <tr>\n      <th>49833</th>\n      <td>Do compromisso em emissão zero de carbono à en...</td>\n      <td>2021</td>\n    </tr>\n    <tr>\n      <th>49834</th>\n      <td>Mas fora isso, jogão da porra, mano. Divertido...</td>\n      <td>2021</td>\n    </tr>\n    <tr>\n      <th>49835</th>\n      <td>Hoje dia 22 de Abril é o Dia da Terra, um dia ...</td>\n      <td>2021</td>\n    </tr>\n    <tr>\n      <th>49836</th>\n      <td>Queria poder descomplicar a vida desse jeito, ...</td>\n      <td>2021</td>\n    </tr>\n    <tr>\n      <th>49837</th>\n      <td>@Roger_Oliveira7 @cirogomes @lhmandetta @Lucia...</td>\n      <td>2021</td>\n    </tr>\n  </tbody>\n</table>\n<p>46709 rows × 2 columns</p>\n</div>"
          },
          "metadata": {}
        }
      ],
      "execution_count": 66,
      "metadata": {
        "jupyter": {
          "source_hidden": false,
          "outputs_hidden": false
        },
        "nteract": {
          "transient": {
            "deleting": false
          }
        },
        "gather": {
          "logged": 1637805165768
        }
      }
    },
    {
      "cell_type": "code",
      "source": [],
      "outputs": [],
      "execution_count": null,
      "metadata": {
        "jupyter": {
          "source_hidden": false,
          "outputs_hidden": false
        },
        "nteract": {
          "transient": {
            "deleting": false
          }
        }
      }
    }
  ],
  "metadata": {
    "kernelspec": {
      "name": "python38-azureml",
      "language": "python",
      "display_name": "Python 3.8 - AzureML"
    },
    "language_info": {
      "name": "python",
      "version": "3.8.1",
      "mimetype": "text/x-python",
      "codemirror_mode": {
        "name": "ipython",
        "version": 3
      },
      "pygments_lexer": "ipython3",
      "nbconvert_exporter": "python",
      "file_extension": ".py"
    },
    "kernel_info": {
      "name": "python38-azureml"
    },
    "microsoft": {
      "host": {
        "AzureML": {
          "notebookHasBeenCompleted": true
        }
      }
    },
    "nteract": {
      "version": "nteract-front-end@1.0.0"
    }
  },
  "nbformat": 4,
  "nbformat_minor": 2
}